{
 "cells": [
  {
   "cell_type": "code",
   "execution_count": null,
   "metadata": {},
   "outputs": [],
   "source": [
    "!pip install polars \n",
    "!pip install seaborn \n",
    "!pip install scikit-learn\n"
   ]
  },
  {
   "cell_type": "code",
   "execution_count": 1,
   "metadata": {},
   "outputs": [],
   "source": [
    "import numpy as np\n",
    "import polars as pl\n",
    "import seaborn as sns\n",
    "from sklearn.linear_model import LinearRegression"
   ]
  },
  {
   "cell_type": "code",
   "execution_count": null,
   "metadata": {},
   "outputs": [
    {
     "name": "stdout",
     "output_type": "stream",
     "text": [
      "Intercept: 3.8713185154581424\n",
      "Coefficients: [ 1.84126369  4.99143831 -3.00177498  0.9777615 ]\n",
      "True Intercept: 3\n",
      "True Coefficients: 2, 5, -3, 1\n"
     ]
    }
   ],
   "source": [
    "np.random.seed(42)\n",
    "\n",
    "# True parameter values\n",
    "beta0 = 3   # Intercept\n",
    "beta1 = 2   # Effect of CoachChange\n",
    "beta2 = 5   # Effect of Team_Strength\n",
    "beta3 = -3  # Effect of Opponent_Strength\n",
    "beta4 = 1   # Effect of Match_Location\n",
    "n = 1000    # Sample size\n",
    "noise_sd = 2  # Standard deviation of random noise\n",
    "\n",
    "# Simulate predictors directly\n",
    "sim_data = pl.DataFrame({\n",
    "    \"CoachChange\": np.random.choice([0, 1], size=n), \n",
    "    \"Team_Strength\": np.random.uniform(50, 100, size=n),\n",
    "    \"Opponent_Strength\": np.random.uniform(50, 100, size=n),\n",
    "    \"Match_Location\": np.random.choice([0, 1], size=n)\n",
    "})\n",
    "\n",
    "# Simulate the outcome variable (Points) directly\n",
    "sim_data = sim_data.with_columns([\n",
    "    (\n",
    "        beta0\n",
    "        + beta1 * pl.col(\"CoachChange\")\n",
    "        + beta2 * pl.col(\"Team_Strength\")\n",
    "        + beta3 * pl.col(\"Opponent_Strength\")\n",
    "        + beta4 * pl.col(\"Match_Location\")\n",
    "        + np.random.normal(0, noise_sd, size=n)\n",
    "    ).alias(\"Points\")\n",
    "])\n",
    "\n",
    "# Prepare the data for regression\n",
    "X = sim_data.select([\"CoachChange\", \"Team_Strength\", \"Opponent_Strength\", \"Match_Location\"]).to_numpy()\n",
    "y = sim_data[\"Points\"].to_numpy()\n",
    "\n",
    "# Fit the linear model\n",
    "model = LinearRegression(fit_intercept=True)\n",
    "model.fit(X, y)\n",
    "\n",
    "# Print the coefficients\n",
    "print(f\"Intercept: {model.intercept_}\")\n",
    "print(f\"Coefficients: {model.coef_}\")\n",
    "\n",
    "# Compare to true parameter values\n",
    "print(f\"True Intercept: {beta0}\")\n",
    "print(f\"True Coefficients: {beta1}, {beta2}, {beta3}, {beta4}\")\n"
   ]
  }
 ],
 "metadata": {
  "language_info": {
   "name": "python"
  }
 },
 "nbformat": 4,
 "nbformat_minor": 2
}
