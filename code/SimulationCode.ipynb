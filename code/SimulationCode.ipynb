{
 "cells": [
  {
   "cell_type": "code",
   "execution_count": null,
   "metadata": {},
   "outputs": [],
   "source": [
    "!pip install polars \n",
    "!pip install seaborn \n",
    "!pip install scikit-learn\n"
   ]
  },
  {
   "cell_type": "code",
   "execution_count": 1,
   "metadata": {},
   "outputs": [],
   "source": [
    "import numpy as np\n",
    "import polars as pl\n",
    "import seaborn as sns\n",
    "from sklearn.linear_model import LinearRegression"
   ]
  },
  {
   "cell_type": "code",
   "execution_count": 3,
   "metadata": {},
   "outputs": [
    {
     "name": "stdout",
     "output_type": "stream",
     "text": [
      "Estimated Intercept: 1.97\n",
      "Estimated Coefficients for [CoachChange, Date]: [2.24278747 1.48301682]\n",
      "True Coefficients: [CoachChange: 2, Date: 1.5]\n"
     ]
    }
   ],
   "source": [
    "np.random.seed(42)\n",
    "\n",
    "# True parameters\n",
    "beta0 = 3       # Intercept\n",
    "beta1 = 2       # Effect of CoachChange\n",
    "beta2 = 1.5     # Effect of Date (e.g., time in season)\n",
    "n = 1000\n",
    "noise_sd = 2\n",
    "\n",
    "# Assume 20 teams\n",
    "n_teams = 20\n",
    "team_ids = np.random.choice(range(n_teams), size=n)\n",
    "\n",
    "# Create random true team effects\n",
    "true_team_effects = np.random.normal(0, 1, size=n_teams)\n",
    "\n",
    "# Simulate confounders and treatment\n",
    "sim_data = pl.DataFrame({\n",
    "    \"Date\": np.random.uniform(1, 38, size=n),\n",
    "    \"Team\": team_ids,\n",
    "})\n",
    "\n",
    "# Simulate CoachChange with some dependency on Date\n",
    "sim_data = sim_data.with_columns(\n",
    "    (pl.col(\"Date\") > 19).cast(int).alias(\"CoachChange\")\n",
    ")\n",
    "\n",
    "# --- KEY FIX HERE ---\n",
    "# Simulate Points using map_elements instead of apply\n",
    "sim_data = sim_data.with_columns(\n",
    "    (\n",
    "        beta0\n",
    "        + beta1 * pl.col(\"CoachChange\")\n",
    "        + beta2 * pl.col(\"Date\")\n",
    "        + pl.col(\"Team\").map_elements(lambda t: true_team_effects[int(t)], return_dtype=pl.Float64)\n",
    "        + np.random.normal(0, noise_sd, size=n)\n",
    "    ).alias(\"Points\")\n",
    ")\n",
    "\n",
    "# Prepare predictors for regression\n",
    "X = sim_data.select([\"CoachChange\", \"Date\"]).to_numpy()\n",
    "\n",
    "# One-hot encode Team (dropping first team to avoid multicollinearity)\n",
    "team_one_hot = np.zeros((n, n_teams - 1))\n",
    "for i in range(n):\n",
    "    team_idx = team_ids[i]\n",
    "    if team_idx != 0:  # drop first team\n",
    "        team_one_hot[i, team_idx - 1] = 1\n",
    "\n",
    "# Combine predictors\n",
    "X = np.hstack([X, team_one_hot])\n",
    "y = sim_data[\"Points\"].to_numpy()\n",
    "\n",
    "# Fit linear model\n",
    "model = LinearRegression(fit_intercept=True)\n",
    "model.fit(X, y)\n",
    "\n",
    "# Print estimated vs. true\n",
    "print(f\"Estimated Intercept: {model.intercept_:.2f}\")\n",
    "print(f\"Estimated Coefficients for [CoachChange, Date]: {model.coef_[:2]}\")\n",
    "print(f\"True Coefficients: [CoachChange: {beta1}, Date: {beta2}]\")\n"
   ]
  },
  {
   "cell_type": "code",
   "execution_count": null,
   "metadata": {},
   "outputs": [],
   "source": []
  }
 ],
 "metadata": {
  "language_info": {
   "name": "python"
  }
 },
 "nbformat": 4,
 "nbformat_minor": 2
}
